{
 "cells": [
  {
   "cell_type": "markdown",
   "id": "738e67d8-a720-436a-9886-8b0db0aefd60",
   "metadata": {},
   "source": [
    "# ANN/ Deep Learning Notebook"
   ]
  },
  {
   "cell_type": "markdown",
   "id": "a168dc89-5339-4b73-ba50-c0bd97277916",
   "metadata": {},
   "source": [
    "Artifificial Neural Network (ANNs) and Deep Learning are foundational technologies in modern Artificial Inteligence(AI). They minic the human brain to process structured and unstructured data for complex problem-solving"
   ]
  },
  {
   "cell_type": "markdown",
   "id": "d4219141-3074-4b79-956e-73438c4e7959",
   "metadata": {},
   "source": [
    "# Structured and Unstructured Data"
   ]
  },
  {
   "cell_type": "markdown",
   "id": "687584a3-e68a-454d-bffb-55296421df9b",
   "metadata": {},
   "source": [
    "- Structured Data: Data that is organised in a predefined format, typically stored in tables with rows and columns\n",
    "- Unstructured Data: Data that does not have a predefined structure or format. Examples: text, images, audio, video\n",
    "- Structured Data easily processed by traditional machine learning algorithms because of its tabular nature\n",
    "- Unstructured data requires advananced techniques like deep learning to extract meaningful patterns due to its complexity"
   ]
  },
  {
   "cell_type": "markdown",
   "id": "e0204bba-e01b-49cb-89c6-ffd0e3280e4a",
   "metadata": {},
   "source": [
    "## Example \n",
    "- Structured Data: A CSV file containing customer data\n",
    "- Unstructured Data: A Collection of images, social media posts, or audio recording"
   ]
  },
  {
   "cell_type": "markdown",
   "id": "75a12153-7acf-4ebb-9af8-49f9509e3986",
   "metadata": {},
   "source": [
    "# Use Cases"
   ]
  },
  {
   "cell_type": "markdown",
   "id": "2d923c04-7ee2-4d00-b657-f6286d40c5c7",
   "metadata": {},
   "source": [
    "- Structured Data: Predicting customer churn using a dataset of customer transactions\n",
    "- Unstructured Data: Classify Images using Convolutional Neural Network (CNNs)"
   ]
  },
  {
   "cell_type": "markdown",
   "id": "6781b403-5761-4834-8836-0af96cbab4d3",
   "metadata": {},
   "source": [
    "# Neural Networks\n",
    "\n",
    "A Neural Network is a computational model inspired by the human brain, consisting of layers of interconnected nodes (neurons) that process data\n",
    "\n",
    "## Neural Networks Architecture\n",
    "Neural Networks consists of interconnected neurons arranged in layers:\n",
    "- input Layer: Receives raw data input\n",
    "- Hidden Layers: Perform Computations and feature extraction\n",
    "- Output Layer: Produces final predictions or classification\n",
    "\n",
    "\n",
    "Input ---> Hidden Layer 1 ---> Hidden Layer 2 ---> Output"
   ]
  },
  {
   "cell_type": "markdown",
   "id": "f8879b8c-6981-47f1-bc80-0e2ea707852d",
   "metadata": {},
   "source": [
    "# Activation Function"
   ]
  },
  {
   "cell_type": "markdown",
   "id": "503a534d-0110-4583-adf3-ed79ec69d618",
   "metadata": {},
   "source": [
    "Activation functions introduce non-linearity into the neutral network, enabling it to learn complex pattern\n",
    "\n",
    "#### Types of Activation Function\n",
    "1. Sigmoid: Used for binary classification\n",
    "2. ReLU (Rectified Linear Unit): Most commonly used due to efficiency\n",
    "3. Tanh: Scales outputs between -1 and 1\n",
    "4. Softmax: Used for multi-class classification"
   ]
  },
  {
   "cell_type": "code",
   "execution_count": null,
   "id": "51a74385-2b4c-40a5-8724-c03827563da0",
   "metadata": {},
   "outputs": [],
   "source": [
    "# Sigmoid Function: Maps input to a range between 0 and 1abs\n",
    "\n",
    "def sigmoid(x):\n",
    "    return 1/(1 + np.exp(-x))"
   ]
  },
  {
   "cell_type": "code",
   "execution_count": null,
   "id": "c7d6ebe7-72d3-47f2-b982-96894ee3b3cb",
   "metadata": {},
   "outputs": [],
   "source": [
    "# ReLU (Rectified Linear Unit)\n",
    "# ReLU is commonly used in hidden layers due to its computational efficiency and ability to mitigate the vanishing gradient problem \n",
    "\n",
    "def relu():\n",
    "    return np.maximum(0, x)"
   ]
  },
  {
   "cell_type": "markdown",
   "id": "70e3ff9a-b991-4014-bb28-260f5cf2fb96",
   "metadata": {},
   "source": [
    "### Multi-Layer Perceptron (MLP)\n",
    "\n",
    "- An MLP is a class of feedforward neural networks with one or more hidden layers\n",
    "- In MLP, each neuron in a layer is connected to every neuron in the next layer. "
   ]
  },
  {
   "cell_type": "code",
   "execution_count": null,
   "id": "dee20c23-4e05-4451-9df7-0d45c58ed01b",
   "metadata": {},
   "outputs": [],
   "source": [
    "## Example\n",
    "\n",
    "from tensorflow.keras.model import Sequential\n",
    "from tensorflow.keras.layers import Dense\n",
    "\n",
    "\n",
    "model = Sequential([\n",
    "    Dense(64, activation='relu', input_shape=(10,)),\n",
    "    Dense(32, activation='relu'),\n",
    "    Dense(1, activation='sigmoid')\n",
    "])\n",
    "\n",
    "model.compile(optimizer='adam', loss='binary_crossentropy', metrics=['accuracy'])\n",
    "model.summary()"
   ]
  },
  {
   "cell_type": "markdown",
   "id": "665de388-00a8-4082-b2fe-a2d0bf712a27",
   "metadata": {},
   "source": [
    "## Explanation\n",
    "\n",
    "##### tensorflow.keras.models.Sequential:\n",
    "- This imports the Sequential model class from keras. The Sequential model allows you to build a neural network by stacking layers in a linear pattern.\n",
    "##### tensorflow.keras.layers import.Dense\n",
    "- This imports the Dense later class. Dense layers are fully connected layers, meaning each neuron in the layer is connected to every neuron in the previous layer.\n",
    "- model = Sequential ([....]). Defines the layersof the network.\n",
    "- Dense(64, activation='relu', input_shape=(10,)): This is the first layer of the network\n",
    "- activation='relu': This applies rectified Linear Unit function to the output of the layer\n",
    "- input_shape=(10,): This specifies the shape of the input data. In this case each input sample is expected to have 10 features.\n",
    "- Dense(32): Creates the second layer of the network with 32 neurons\n",
    "- Dense(1, activation='sigmoid'): This is the output layer of the network, with sigmoid activation function applied.\n",
    "- Sigmoid outputs a value between 0 and 1, for binary classification "
   ]
  },
  {
   "cell_type": "markdown",
   "id": "4000dc06-4a55-4db3-b965-40e25eb42438",
   "metadata": {},
   "source": [
    "### Optimizers\n",
    "\n",
    "- Optimizers are algorithms used to update the weights of a neural network during training\n",
    "\n",
    "\n",
    "### Common Optimizers\n",
    "- Gradient Descent: Updates weights in the direction of the negative gradient\n",
    "- Adam: Combines the benefits of RMSProp and Momentum\n",
    "- RMSProp: Adapts the learning rate based on the magnitude of gradients"
   ]
  },
  {
   "cell_type": "markdown",
   "id": "374d7e36-eda1-41c0-ab32-14f20bdca320",
   "metadata": {},
   "source": [
    "### Steps in completing a Neural Networks Project\n",
    "\n",
    "- Load the dataset\n",
    "- Handle missing values\n",
    "- Encode categorical variables\n",
    "- Normalize/Scale numerical features\n",
    "- Split the data into training and testing sets\n",
    "- Design the neural networks architecture.\n",
    "- Choose the number of layers and neurons\n",
    "- Select activation functions(e.g: ReLU for hidden layers, Sigmoid/Softmax for output)\n",
    "- Compile the model with a loss function, optimizer, and metrics\n",
    "- Fit the model to the training data\n",
    "- Monitor training and validation performance\n",
    "- Evaluate the model\n",
    "- Tune the model"
   ]
  },
  {
   "cell_type": "markdown",
   "id": "65cf66e0-e3d4-4a94-8b3c-b5afe8e64434",
   "metadata": {},
   "source": [
    "### Definition of key terms\n",
    "\n",
    "- Epoch: One complete pass through the training dataset.\n",
    "- Loss Function: Measure the difference between predicted output and actual outputs\n",
    "- Overfitting: When a model performs well on training data poorly on test data\n",
    "- Batch Size: Number of samples processed before updating weights\n",
    "- "
   ]
  },
  {
   "cell_type": "markdown",
   "id": "a580a62b-7bb6-4970-98c8-3f443af59cc3",
   "metadata": {},
   "source": [
    "# ANN Project - Predicting Customer Churn"
   ]
  },
  {
   "cell_type": "markdown",
   "id": "6a39162e-48d9-438b-b52d-99f9bd22a3f0",
   "metadata": {},
   "source": [
    "1. Load important libraries and customer churn dataset"
   ]
  },
  {
   "cell_type": "code",
   "execution_count": 8,
   "id": "7da0bcf2-c978-4df7-98df-0f5e0b908b73",
   "metadata": {},
   "outputs": [],
   "source": [
    "import pandas as pd\n",
    "from sklearn.model_selection import train_test_split\n",
    "from sklearn.preprocessing import StandardScaler, LabelEncoder"
   ]
  },
  {
   "cell_type": "code",
   "execution_count": 49,
   "id": "54714425-7264-445c-9f3e-511518835066",
   "metadata": {},
   "outputs": [
    {
     "data": {
      "text/html": [
       "<div>\n",
       "<style scoped>\n",
       "    .dataframe tbody tr th:only-of-type {\n",
       "        vertical-align: middle;\n",
       "    }\n",
       "\n",
       "    .dataframe tbody tr th {\n",
       "        vertical-align: top;\n",
       "    }\n",
       "\n",
       "    .dataframe thead th {\n",
       "        text-align: right;\n",
       "    }\n",
       "</style>\n",
       "<table border=\"1\" class=\"dataframe\">\n",
       "  <thead>\n",
       "    <tr style=\"text-align: right;\">\n",
       "      <th></th>\n",
       "      <th>CustomerID</th>\n",
       "      <th>Gender</th>\n",
       "      <th>Age</th>\n",
       "      <th>Tenure</th>\n",
       "      <th>MonthlyCharges</th>\n",
       "      <th>TotalCharges</th>\n",
       "      <th>Contract</th>\n",
       "      <th>PaymentMethod</th>\n",
       "      <th>Churn</th>\n",
       "    </tr>\n",
       "  </thead>\n",
       "  <tbody>\n",
       "    <tr>\n",
       "      <th>0</th>\n",
       "      <td>1</td>\n",
       "      <td>Male</td>\n",
       "      <td>68</td>\n",
       "      <td>17</td>\n",
       "      <td>27.74</td>\n",
       "      <td>471.58</td>\n",
       "      <td>Month-to-Month</td>\n",
       "      <td>Credit Card</td>\n",
       "      <td>0</td>\n",
       "    </tr>\n",
       "    <tr>\n",
       "      <th>1</th>\n",
       "      <td>2</td>\n",
       "      <td>Female</td>\n",
       "      <td>57</td>\n",
       "      <td>52</td>\n",
       "      <td>21.21</td>\n",
       "      <td>1102.92</td>\n",
       "      <td>One Year</td>\n",
       "      <td>Electronic Check</td>\n",
       "      <td>0</td>\n",
       "    </tr>\n",
       "    <tr>\n",
       "      <th>2</th>\n",
       "      <td>3</td>\n",
       "      <td>Male</td>\n",
       "      <td>24</td>\n",
       "      <td>12</td>\n",
       "      <td>48.82</td>\n",
       "      <td>585.84</td>\n",
       "      <td>Month-to-Month</td>\n",
       "      <td>Mailed Check</td>\n",
       "      <td>0</td>\n",
       "    </tr>\n",
       "  </tbody>\n",
       "</table>\n",
       "</div>"
      ],
      "text/plain": [
       "   CustomerID  Gender  Age  Tenure  MonthlyCharges  TotalCharges  \\\n",
       "0           1    Male   68      17           27.74        471.58   \n",
       "1           2  Female   57      52           21.21       1102.92   \n",
       "2           3    Male   24      12           48.82        585.84   \n",
       "\n",
       "         Contract     PaymentMethod  Churn  \n",
       "0  Month-to-Month       Credit Card      0  \n",
       "1        One Year  Electronic Check      0  \n",
       "2  Month-to-Month      Mailed Check      0  "
      ]
     },
     "execution_count": 49,
     "metadata": {},
     "output_type": "execute_result"
    }
   ],
   "source": [
    "df = pd.read_csv('customer_churn_data.csv')\n",
    "df.head(3)"
   ]
  },
  {
   "cell_type": "code",
   "execution_count": 50,
   "id": "7ef18ae3-4708-4e69-9c43-34dc878b50be",
   "metadata": {},
   "outputs": [],
   "source": [
    "df = df.set_index('CustomerID')"
   ]
  },
  {
   "cell_type": "code",
   "execution_count": 51,
   "id": "f71fda2b-01bf-4c3a-94ce-467510d9e3b9",
   "metadata": {},
   "outputs": [
    {
     "data": {
      "text/plain": [
       "Gender            0\n",
       "Age               0\n",
       "Tenure            0\n",
       "MonthlyCharges    0\n",
       "TotalCharges      0\n",
       "Contract          0\n",
       "PaymentMethod     0\n",
       "Churn             0\n",
       "dtype: int64"
      ]
     },
     "execution_count": 51,
     "metadata": {},
     "output_type": "execute_result"
    }
   ],
   "source": [
    "df.isna().sum()"
   ]
  },
  {
   "cell_type": "code",
   "execution_count": 52,
   "id": "016c6859-efda-47c6-9050-e9d9b4ca33bf",
   "metadata": {},
   "outputs": [],
   "source": [
    "# Encode categorical Variablesabs\n",
    "\n",
    "le = LabelEncoder()\n",
    "\n",
    "categorical_features = ['Gender', 'Contract', 'PaymentMethod']\n",
    "for features in categorical_features:\n",
    "    df[features] = le.fit_transform(df[features])"
   ]
  },
  {
   "cell_type": "code",
   "execution_count": 58,
   "id": "2220141b-b554-4dd4-bb84-b6837e150386",
   "metadata": {},
   "outputs": [],
   "source": [
    "## Split the data\n",
    "\n",
    "x = df.drop('Churn', axis=1)\n",
    "y = df['Churn']\n",
    "\n",
    "xtrain, xtest, ytrain, ytest = train_test_split(x, y, test_size=0.2, random_state=42)"
   ]
  },
  {
   "cell_type": "code",
   "execution_count": 60,
   "id": "89addfd3-74fa-4988-ba9d-ae5ee75d1a6e",
   "metadata": {},
   "outputs": [],
   "source": [
    "# Normalize numerical features\n",
    "\n",
    "scaler = StandardScaler()\n",
    "\n",
    "numeric_features = ['Age', 'MonthlyCharges', 'TotalCharges', ]\n",
    "df[numeric_features] = scaler.fit_transform(df[numeric_features])"
   ]
  },
  {
   "cell_type": "code",
   "execution_count": 67,
   "id": "9297900c-45db-4867-916b-0ac86f96069d",
   "metadata": {},
   "outputs": [],
   "source": [
    "## bUild the Model\n",
    "\n",
    "from tensorflow.keras.models import Sequential\n",
    "from tensorflow.keras.layers import Dense, Input\n",
    "\n",
    "\n",
    "# Define the model layers\n",
    "model = Sequential()\n",
    "model.add(Input(shape=(xtrain.shape[1],))) # Define the input shape\n",
    "model.add(Dense(64, activation='relu')) # Hidden layer 1\n",
    "model.add(Dense(32, activation='relu')) # Hidden layer 2\n",
    "model.add(Dense(1, activation='sigmoid')) # Output layer\n",
    "\n",
    "\n",
    "# Compile the model\n",
    "model.compile(optimizer='adam', loss='binary_crossentropy', metrics=['accuracy'])"
   ]
  },
  {
   "cell_type": "code",
   "execution_count": 71,
   "id": "337145cc-4f1d-4d9d-8999-ffdb9f87be73",
   "metadata": {},
   "outputs": [
    {
     "name": "stdout",
     "output_type": "stream",
     "text": [
      "Epoch 1/20\n",
      "\u001b[1m200/200\u001b[0m \u001b[32m━━━━━━━━━━━━━━━━━━━━\u001b[0m\u001b[37m\u001b[0m \u001b[1m35s\u001b[0m 15ms/step - accuracy: 0.6926 - loss: 1.6705 - val_accuracy: 0.7544 - val_loss: 1.5550\n",
      "Epoch 2/20\n",
      "\u001b[1m200/200\u001b[0m \u001b[32m━━━━━━━━━━━━━━━━━━━━\u001b[0m\u001b[37m\u001b[0m \u001b[1m1s\u001b[0m 4ms/step - accuracy: 0.7032 - loss: 1.3822 - val_accuracy: 0.7538 - val_loss: 0.9980\n",
      "Epoch 3/20\n",
      "\u001b[1m200/200\u001b[0m \u001b[32m━━━━━━━━━━━━━━━━━━━━\u001b[0m\u001b[37m\u001b[0m \u001b[1m1s\u001b[0m 3ms/step - accuracy: 0.7099 - loss: 1.1564 - val_accuracy: 0.7506 - val_loss: 1.2182\n",
      "Epoch 4/20\n",
      "\u001b[1m200/200\u001b[0m \u001b[32m━━━━━━━━━━━━━━━━━━━━\u001b[0m\u001b[37m\u001b[0m \u001b[1m1s\u001b[0m 3ms/step - accuracy: 0.7308 - loss: 0.8388 - val_accuracy: 0.7550 - val_loss: 1.1098\n",
      "Epoch 5/20\n",
      "\u001b[1m200/200\u001b[0m \u001b[32m━━━━━━━━━━━━━━━━━━━━\u001b[0m\u001b[37m\u001b[0m \u001b[1m1s\u001b[0m 3ms/step - accuracy: 0.6958 - loss: 1.6387 - val_accuracy: 0.7244 - val_loss: 0.5601\n",
      "Epoch 6/20\n",
      "\u001b[1m200/200\u001b[0m \u001b[32m━━━━━━━━━━━━━━━━━━━━\u001b[0m\u001b[37m\u001b[0m \u001b[1m1s\u001b[0m 3ms/step - accuracy: 0.7102 - loss: 0.9261 - val_accuracy: 0.5913 - val_loss: 0.9724\n",
      "Epoch 7/20\n",
      "\u001b[1m200/200\u001b[0m \u001b[32m━━━━━━━━━━━━━━━━━━━━\u001b[0m\u001b[37m\u001b[0m \u001b[1m1s\u001b[0m 3ms/step - accuracy: 0.7244 - loss: 0.7184 - val_accuracy: 0.7419 - val_loss: 0.5261\n",
      "Epoch 8/20\n",
      "\u001b[1m200/200\u001b[0m \u001b[32m━━━━━━━━━━━━━━━━━━━━\u001b[0m\u001b[37m\u001b[0m \u001b[1m1s\u001b[0m 3ms/step - accuracy: 0.7175 - loss: 1.0143 - val_accuracy: 0.7381 - val_loss: 0.5186\n",
      "Epoch 9/20\n",
      "\u001b[1m200/200\u001b[0m \u001b[32m━━━━━━━━━━━━━━━━━━━━\u001b[0m\u001b[37m\u001b[0m \u001b[1m1s\u001b[0m 4ms/step - accuracy: 0.7077 - loss: 1.2115 - val_accuracy: 0.5913 - val_loss: 0.9780\n",
      "Epoch 10/20\n",
      "\u001b[1m200/200\u001b[0m \u001b[32m━━━━━━━━━━━━━━━━━━━━\u001b[0m\u001b[37m\u001b[0m \u001b[1m1s\u001b[0m 3ms/step - accuracy: 0.7123 - loss: 1.0134 - val_accuracy: 0.7513 - val_loss: 1.2603\n",
      "Epoch 11/20\n",
      "\u001b[1m200/200\u001b[0m \u001b[32m━━━━━━━━━━━━━━━━━━━━\u001b[0m\u001b[37m\u001b[0m \u001b[1m1s\u001b[0m 3ms/step - accuracy: 0.6996 - loss: 1.1645 - val_accuracy: 0.7381 - val_loss: 0.5797\n",
      "Epoch 12/20\n",
      "\u001b[1m200/200\u001b[0m \u001b[32m━━━━━━━━━━━━━━━━━━━━\u001b[0m\u001b[37m\u001b[0m \u001b[1m1s\u001b[0m 4ms/step - accuracy: 0.6962 - loss: 1.2070 - val_accuracy: 0.5788 - val_loss: 1.0240\n",
      "Epoch 13/20\n",
      "\u001b[1m200/200\u001b[0m \u001b[32m━━━━━━━━━━━━━━━━━━━━\u001b[0m\u001b[37m\u001b[0m \u001b[1m1s\u001b[0m 3ms/step - accuracy: 0.7240 - loss: 0.8705 - val_accuracy: 0.7469 - val_loss: 0.7233\n",
      "Epoch 14/20\n",
      "\u001b[1m200/200\u001b[0m \u001b[32m━━━━━━━━━━━━━━━━━━━━\u001b[0m\u001b[37m\u001b[0m \u001b[1m1s\u001b[0m 3ms/step - accuracy: 0.7295 - loss: 0.7633 - val_accuracy: 0.7387 - val_loss: 0.5165\n",
      "Epoch 15/20\n",
      "\u001b[1m200/200\u001b[0m \u001b[32m━━━━━━━━━━━━━━━━━━━━\u001b[0m\u001b[37m\u001b[0m \u001b[1m1s\u001b[0m 3ms/step - accuracy: 0.7141 - loss: 0.8234 - val_accuracy: 0.7500 - val_loss: 0.9911\n",
      "Epoch 16/20\n",
      "\u001b[1m200/200\u001b[0m \u001b[32m━━━━━━━━━━━━━━━━━━━━\u001b[0m\u001b[37m\u001b[0m \u001b[1m1s\u001b[0m 3ms/step - accuracy: 0.7186 - loss: 0.9106 - val_accuracy: 0.7406 - val_loss: 0.6964\n",
      "Epoch 17/20\n",
      "\u001b[1m200/200\u001b[0m \u001b[32m━━━━━━━━━━━━━━━━━━━━\u001b[0m\u001b[37m\u001b[0m \u001b[1m1s\u001b[0m 4ms/step - accuracy: 0.7438 - loss: 0.7485 - val_accuracy: 0.6231 - val_loss: 0.7575\n",
      "Epoch 18/20\n",
      "\u001b[1m200/200\u001b[0m \u001b[32m━━━━━━━━━━━━━━━━━━━━\u001b[0m\u001b[37m\u001b[0m \u001b[1m1s\u001b[0m 3ms/step - accuracy: 0.7149 - loss: 0.8502 - val_accuracy: 0.6513 - val_loss: 0.7083\n",
      "Epoch 19/20\n",
      "\u001b[1m200/200\u001b[0m \u001b[32m━━━━━━━━━━━━━━━━━━━━\u001b[0m\u001b[37m\u001b[0m \u001b[1m1s\u001b[0m 3ms/step - accuracy: 0.7300 - loss: 0.8251 - val_accuracy: 0.6169 - val_loss: 0.8113\n",
      "Epoch 20/20\n",
      "\u001b[1m200/200\u001b[0m \u001b[32m━━━━━━━━━━━━━━━━━━━━\u001b[0m\u001b[37m\u001b[0m \u001b[1m1s\u001b[0m 5ms/step - accuracy: 0.7112 - loss: 0.9732 - val_accuracy: 0.6650 - val_loss: 0.6297\n"
     ]
    },
    {
     "data": {
      "image/png": "[encoded data removed]",
      "text/plain": [
       "<Figure size 640x480 with 1 Axes>"
      ]
     },
     "metadata": {},
     "output_type": "display_data"
    }
   ],
   "source": [
    "# Train the model\n",
    "\n",
    "history = model.fit(xtrain, ytrain, epochs=20, batch_size=32,validation_split=0.2)\n",
    "\n",
    "\n",
    "# Plot training history\n",
    "import matplotlib.pyplot as plt\n",
    "\n",
    "plt.plot(history.history['accuracy'], label='Training Accuracy')\n",
    "plt.plot(history.history['val_accuracy'], label='Validation Accuracy')\n",
    "plt.xlabel('Epochs')\n",
    "plt.ylabel('Accuracy')\n",
    "plt.ylim([0.5,1])\n",
    "plt.legend()\n",
    "plt.show()"
   ]
  },
  {
   "cell_type": "code",
   "execution_count": 76,
   "id": "76177869-8666-407d-98ad-5e844a8f6e3c",
   "metadata": {},
   "outputs": [
    {
     "name": "stdout",
     "output_type": "stream",
     "text": [
      "\u001b[1m63/63\u001b[0m \u001b[32m━━━━━━━━━━━━━━━━━━━━\u001b[0m\u001b[37m\u001b[0m \u001b[1m28s\u001b[0m 10ms/step\n",
      "Test Accuracy:0.69\n"
     ]
    }
   ],
   "source": [
    "from sklearn.metrics import accuracy_score, confusion_matrix\n",
    "\n",
    "#Evaluate on test data\n",
    "y_pred = model.predict(xtest)\n",
    "y_pred = (y_pred > 0.5)\n",
    "\n",
    "# Calculate accuracy\n",
    "accuracy = accuracy_score(ytest, y_pred)\n",
    "print(f'Test Accuracy:{accuracy:.2f}')"
   ]
  },
  {
   "cell_type": "code",
   "execution_count": 82,
   "id": "bc23778a-a1b4-4be5-8f4d-149503e06885",
   "metadata": {},
   "outputs": [
    {
     "name": "stdout",
     "output_type": "stream",
     "text": [
      "Epoch 1/20\n",
      "\u001b[1m200/200\u001b[0m \u001b[32m━━━━━━━━━━━━━━━━━━━━\u001b[0m\u001b[37m\u001b[0m \u001b[1m33s\u001b[0m 13ms/step - accuracy: 0.6422 - loss: 75.7357 - val_accuracy: 0.7475 - val_loss: 3.5586\n",
      "Epoch 2/20\n",
      "\u001b[1m200/200\u001b[0m \u001b[32m━━━━━━━━━━━━━━━━━━━━\u001b[0m\u001b[37m\u001b[0m \u001b[1m1s\u001b[0m 3ms/step - accuracy: 0.6133 - loss: 20.9300 - val_accuracy: 0.6725 - val_loss: 0.8089\n",
      "Epoch 3/20\n",
      "\u001b[1m200/200\u001b[0m \u001b[32m━━━━━━━━━━━━━━━━━━━━\u001b[0m\u001b[37m\u001b[0m \u001b[1m1s\u001b[0m 3ms/step - accuracy: 0.6223 - loss: 9.2988 - val_accuracy: 0.2850 - val_loss: 2.2124\n",
      "Epoch 4/20\n",
      "\u001b[1m200/200\u001b[0m \u001b[32m━━━━━━━━━━━━━━━━━━━━\u001b[0m\u001b[37m\u001b[0m \u001b[1m1s\u001b[0m 3ms/step - accuracy: 0.6369 - loss: 4.3361 - val_accuracy: 0.7475 - val_loss: 0.6556\n",
      "Epoch 5/20\n",
      "\u001b[1m200/200\u001b[0m \u001b[32m━━━━━━━━━━━━━━━━━━━━\u001b[0m\u001b[37m\u001b[0m \u001b[1m1s\u001b[0m 3ms/step - accuracy: 0.6715 - loss: 2.1892 - val_accuracy: 0.7475 - val_loss: 1.0247\n",
      "Epoch 6/20\n",
      "\u001b[1m200/200\u001b[0m \u001b[32m━━━━━━━━━━━━━━━━━━━━\u001b[0m\u001b[37m\u001b[0m \u001b[1m1s\u001b[0m 3ms/step - accuracy: 0.6645 - loss: 1.8709 - val_accuracy: 0.7475 - val_loss: 0.6539\n",
      "Epoch 7/20\n",
      "\u001b[1m200/200\u001b[0m \u001b[32m━━━━━━━━━━━━━━━━━━━━\u001b[0m\u001b[37m\u001b[0m \u001b[1m1s\u001b[0m 3ms/step - accuracy: 0.7015 - loss: 1.1413 - val_accuracy: 0.7475 - val_loss: 0.7368\n",
      "Epoch 8/20\n",
      "\u001b[1m200/200\u001b[0m \u001b[32m━━━━━━━━━━━━━━━━━━━━\u001b[0m\u001b[37m\u001b[0m \u001b[1m1s\u001b[0m 3ms/step - accuracy: 0.6807 - loss: 1.2075 - val_accuracy: 0.7475 - val_loss: 0.8461\n",
      "Epoch 9/20\n",
      "\u001b[1m200/200\u001b[0m \u001b[32m━━━━━━━━━━━━━━━━━━━━\u001b[0m\u001b[37m\u001b[0m \u001b[1m1s\u001b[0m 3ms/step - accuracy: 0.6981 - loss: 1.1669 - val_accuracy: 0.7475 - val_loss: 0.7156\n",
      "Epoch 10/20\n",
      "\u001b[1m200/200\u001b[0m \u001b[32m━━━━━━━━━━━━━━━━━━━━\u001b[0m\u001b[37m\u001b[0m \u001b[1m1s\u001b[0m 3ms/step - accuracy: 0.6689 - loss: 1.1720 - val_accuracy: 0.7475 - val_loss: 0.8997\n",
      "Epoch 11/20\n",
      "\u001b[1m200/200\u001b[0m \u001b[32m━━━━━━━━━━━━━━━━━━━━\u001b[0m\u001b[37m\u001b[0m \u001b[1m1s\u001b[0m 4ms/step - accuracy: 0.7201 - loss: 0.8149 - val_accuracy: 0.7475 - val_loss: 0.6294\n",
      "Epoch 12/20\n",
      "\u001b[1m200/200\u001b[0m \u001b[32m━━━━━━━━━━━━━━━━━━━━\u001b[0m\u001b[37m\u001b[0m \u001b[1m1s\u001b[0m 3ms/step - accuracy: 0.6948 - loss: 0.8591 - val_accuracy: 0.7475 - val_loss: 0.6575\n",
      "Epoch 13/20\n",
      "\u001b[1m200/200\u001b[0m \u001b[32m━━━━━━━━━━━━━━━━━━━━\u001b[0m\u001b[37m\u001b[0m \u001b[1m1s\u001b[0m 3ms/step - accuracy: 0.7058 - loss: 0.8907 - val_accuracy: 0.4869 - val_loss: 0.8915\n",
      "Epoch 14/20\n",
      "\u001b[1m200/200\u001b[0m \u001b[32m━━━━━━━━━━━━━━━━━━━━\u001b[0m\u001b[37m\u001b[0m \u001b[1m1s\u001b[0m 3ms/step - accuracy: 0.6990 - loss: 0.8765 - val_accuracy: 0.7475 - val_loss: 0.6081\n",
      "Epoch 15/20\n",
      "\u001b[1m200/200\u001b[0m \u001b[32m━━━━━━━━━━━━━━━━━━━━\u001b[0m\u001b[37m\u001b[0m \u001b[1m1s\u001b[0m 3ms/step - accuracy: 0.7246 - loss: 0.7093 - val_accuracy: 0.7475 - val_loss: 0.5992\n",
      "Epoch 16/20\n",
      "\u001b[1m200/200\u001b[0m \u001b[32m━━━━━━━━━━━━━━━━━━━━\u001b[0m\u001b[37m\u001b[0m \u001b[1m1s\u001b[0m 3ms/step - accuracy: 0.7100 - loss: 0.7958 - val_accuracy: 0.7475 - val_loss: 0.7174\n",
      "Epoch 17/20\n",
      "\u001b[1m200/200\u001b[0m \u001b[32m━━━━━━━━━━━━━━━━━━━━\u001b[0m\u001b[37m\u001b[0m \u001b[1m1s\u001b[0m 3ms/step - accuracy: 0.7136 - loss: 0.7769 - val_accuracy: 0.7475 - val_loss: 0.9555\n",
      "Epoch 18/20\n",
      "\u001b[1m200/200\u001b[0m \u001b[32m━━━━━━━━━━━━━━━━━━━━\u001b[0m\u001b[37m\u001b[0m \u001b[1m1s\u001b[0m 4ms/step - accuracy: 0.7102 - loss: 0.7825 - val_accuracy: 0.7475 - val_loss: 0.6449\n",
      "Epoch 19/20\n",
      "\u001b[1m200/200\u001b[0m \u001b[32m━━━━━━━━━━━━━━━━━━━━\u001b[0m\u001b[37m\u001b[0m \u001b[1m1s\u001b[0m 3ms/step - accuracy: 0.7180 - loss: 0.6981 - val_accuracy: 0.7475 - val_loss: 0.5842\n",
      "Epoch 20/20\n",
      "\u001b[1m200/200\u001b[0m \u001b[32m━━━━━━━━━━━━━━━━━━━━\u001b[0m\u001b[37m\u001b[0m \u001b[1m1s\u001b[0m 3ms/step - accuracy: 0.7376 - loss: 0.6670 - val_accuracy: 0.7475 - val_loss: 0.5955\n"
     ]
    },
    {
     "data": {
      "text/plain": [
       "<keras.src.callbacks.history.History at 0x175b20e0d10>"
      ]
     },
     "execution_count": 82,
     "metadata": {},
     "output_type": "execute_result"
    }
   ],
   "source": [
    "# Apply Regularization for overfitting data\n",
    "\n",
    "from tensorflow.keras.layers import Dropout\n",
    "from tensorflow.keras.regularizers import l2\n",
    "\n",
    "\n",
    "#Add Dropout and regularization\n",
    "model = Sequential()\n",
    "model.add(Input(shape=(xtrain.shape[1],))) # Define the input shape\n",
    "model.add(Dense(64, activation='relu', kernel_regularizer=l2(0.01))) # Hidden layer 1\n",
    "model.add(Dropout(0.5))\n",
    "model.add(Dense(32, activation='relu')) # Hidden layer 2\n",
    "model.add(Dense(1, activation='sigmoid')) # Output layer\n",
    "\n",
    "\n",
    "# Compile the model\n",
    "model.compile(optimizer='adam', loss='binary_crossentropy', metrics=['accuracy'])\n",
    "model.fit(xtrain, ytrain, epochs=20, batch_size=32, validation_split=0.2)"
   ]
  },
  {
   "cell_type": "code",
   "execution_count": 84,
   "id": "68a981c1-bb01-4b41-bc99-4d85565eb689",
   "metadata": {},
   "outputs": [
    {
     "name": "stdout",
     "output_type": "stream",
     "text": [
      "Epoch 1/20\n",
      "\u001b[1m200/200\u001b[0m \u001b[32m━━━━━━━━━━━━━━━━━━━━\u001b[0m\u001b[37m\u001b[0m \u001b[1m1s\u001b[0m 3ms/step - accuracy: 0.7384 - loss: 0.6419 - val_accuracy: 0.7475 - val_loss: 0.5853\n",
      "Epoch 2/20\n",
      "\u001b[1m200/200\u001b[0m \u001b[32m━━━━━━━━━━━━━━━━━━━━\u001b[0m\u001b[37m\u001b[0m \u001b[1m1s\u001b[0m 3ms/step - accuracy: 0.7288 - loss: 0.6959 - val_accuracy: 0.7475 - val_loss: 0.5761\n",
      "Epoch 3/20\n",
      "\u001b[1m200/200\u001b[0m \u001b[32m━━━━━━━━━━━━━━━━━━━━\u001b[0m\u001b[37m\u001b[0m \u001b[1m1s\u001b[0m 3ms/step - accuracy: 0.7404 - loss: 0.6302 - val_accuracy: 0.7475 - val_loss: 0.5781\n",
      "Epoch 4/20\n",
      "\u001b[1m200/200\u001b[0m \u001b[32m━━━━━━━━━━━━━━━━━━━━\u001b[0m\u001b[37m\u001b[0m \u001b[1m1s\u001b[0m 3ms/step - accuracy: 0.7258 - loss: 0.6773 - val_accuracy: 0.7431 - val_loss: 0.5865\n",
      "Epoch 5/20\n",
      "\u001b[1m200/200\u001b[0m \u001b[32m━━━━━━━━━━━━━━━━━━━━\u001b[0m\u001b[37m\u001b[0m \u001b[1m1s\u001b[0m 3ms/step - accuracy: 0.7415 - loss: 0.6351 - val_accuracy: 0.7475 - val_loss: 0.8695\n",
      "Epoch 6/20\n",
      "\u001b[1m200/200\u001b[0m \u001b[32m━━━━━━━━━━━━━━━━━━━━\u001b[0m\u001b[37m\u001b[0m \u001b[1m1s\u001b[0m 3ms/step - accuracy: 0.7402 - loss: 0.6375 - val_accuracy: 0.7475 - val_loss: 0.5710\n",
      "Epoch 7/20\n",
      "\u001b[1m200/200\u001b[0m \u001b[32m━━━━━━━━━━━━━━━━━━━━\u001b[0m\u001b[37m\u001b[0m \u001b[1m1s\u001b[0m 3ms/step - accuracy: 0.7516 - loss: 0.5945 - val_accuracy: 0.7475 - val_loss: 0.6436\n",
      "Epoch 8/20\n",
      "\u001b[1m200/200\u001b[0m \u001b[32m━━━━━━━━━━━━━━━━━━━━\u001b[0m\u001b[37m\u001b[0m \u001b[1m1s\u001b[0m 3ms/step - accuracy: 0.7444 - loss: 0.6124 - val_accuracy: 0.7475 - val_loss: 0.6362\n",
      "Epoch 9/20\n",
      "\u001b[1m200/200\u001b[0m \u001b[32m━━━━━━━━━━━━━━━━━━━━\u001b[0m\u001b[37m\u001b[0m \u001b[1m1s\u001b[0m 4ms/step - accuracy: 0.7517 - loss: 0.5962 - val_accuracy: 0.7475 - val_loss: 0.5674\n",
      "Epoch 10/20\n",
      "\u001b[1m200/200\u001b[0m \u001b[32m━━━━━━━━━━━━━━━━━━━━\u001b[0m\u001b[37m\u001b[0m \u001b[1m1s\u001b[0m 3ms/step - accuracy: 0.7494 - loss: 0.5937 - val_accuracy: 0.7400 - val_loss: 0.5754\n",
      "Epoch 11/20\n",
      "\u001b[1m200/200\u001b[0m \u001b[32m━━━━━━━━━━━━━━━━━━━━\u001b[0m\u001b[37m\u001b[0m \u001b[1m1s\u001b[0m 4ms/step - accuracy: 0.7658 - loss: 0.5657 - val_accuracy: 0.7475 - val_loss: 0.5712\n",
      "Epoch 12/20\n",
      "\u001b[1m200/200\u001b[0m \u001b[32m━━━━━━━━━━━━━━━━━━━━\u001b[0m\u001b[37m\u001b[0m \u001b[1m1s\u001b[0m 3ms/step - accuracy: 0.7595 - loss: 0.5595 - val_accuracy: 0.7475 - val_loss: 0.5771\n",
      "Epoch 13/20\n",
      "\u001b[1m200/200\u001b[0m \u001b[32m━━━━━━━━━━━━━━━━━━━━\u001b[0m\u001b[37m\u001b[0m \u001b[1m1s\u001b[0m 3ms/step - accuracy: 0.7696 - loss: 0.5505 - val_accuracy: 0.7475 - val_loss: 0.5605\n",
      "Epoch 14/20\n",
      "\u001b[1m200/200\u001b[0m \u001b[32m━━━━━━━━━━━━━━━━━━━━\u001b[0m\u001b[37m\u001b[0m \u001b[1m1s\u001b[0m 4ms/step - accuracy: 0.7633 - loss: 0.5485 - val_accuracy: 0.7475 - val_loss: 0.5746\n",
      "Epoch 15/20\n",
      "\u001b[1m200/200\u001b[0m \u001b[32m━━━━━━━━━━━━━━━━━━━━\u001b[0m\u001b[37m\u001b[0m \u001b[1m1s\u001b[0m 3ms/step - accuracy: 0.7680 - loss: 0.5410 - val_accuracy: 0.7475 - val_loss: 0.5579\n",
      "Epoch 16/20\n",
      "\u001b[1m200/200\u001b[0m \u001b[32m━━━━━━━━━━━━━━━━━━━━\u001b[0m\u001b[37m\u001b[0m \u001b[1m1s\u001b[0m 3ms/step - accuracy: 0.7548 - loss: 0.5666 - val_accuracy: 0.7475 - val_loss: 0.5594\n",
      "Epoch 17/20\n",
      "\u001b[1m200/200\u001b[0m \u001b[32m━━━━━━━━━━━━━━━━━━━━\u001b[0m\u001b[37m\u001b[0m \u001b[1m1s\u001b[0m 3ms/step - accuracy: 0.7676 - loss: 0.5446 - val_accuracy: 0.7475 - val_loss: 0.5563\n",
      "Epoch 18/20\n",
      "\u001b[1m200/200\u001b[0m \u001b[32m━━━━━━━━━━━━━━━━━━━━\u001b[0m\u001b[37m\u001b[0m \u001b[1m1s\u001b[0m 3ms/step - accuracy: 0.7627 - loss: 0.5520 - val_accuracy: 0.7475 - val_loss: 0.5574\n",
      "Epoch 19/20\n",
      "\u001b[1m200/200\u001b[0m \u001b[32m━━━━━━━━━━━━━━━━━━━━\u001b[0m\u001b[37m\u001b[0m \u001b[1m1s\u001b[0m 3ms/step - accuracy: 0.7666 - loss: 0.5394 - val_accuracy: 0.7475 - val_loss: 0.5580\n",
      "Epoch 20/20\n",
      "\u001b[1m200/200\u001b[0m \u001b[32m━━━━━━━━━━━━━━━━━━━━\u001b[0m\u001b[37m\u001b[0m \u001b[1m1s\u001b[0m 3ms/step - accuracy: 0.7706 - loss: 0.5344 - val_accuracy: 0.7475 - val_loss: 0.5608\n"
     ]
    },
    {
     "data": {
      "image/png": "[encoded data removed]",
      "text/plain": [
       "<Figure size 640x480 with 1 Axes>"
      ]
     },
     "metadata": {},
     "output_type": "display_data"
    }
   ],
   "source": [
    "# Train the model\n",
    "\n",
    "history = model.fit(xtrain, ytrain, epochs=20, batch_size=32,validation_split=0.2)\n",
    "\n",
    "\n",
    "# Plot training history\n",
    "import matplotlib.pyplot as plt\n",
    "\n",
    "plt.plot(history.history['accuracy'], label='Training Accuracy')\n",
    "plt.plot(history.history['val_accuracy'], label='Validation Accuracy')\n",
    "plt.xlabel('Epochs')\n",
    "plt.ylabel('Accuracy')\n",
    "plt.ylim([0.5,1])\n",
    "plt.legend()\n",
    "plt.show()"
   ]
  },
  {
   "cell_type": "code",
   "execution_count": 86,
   "id": "37ab5069-e7d3-4a2b-b39b-c090e9139b8e",
   "metadata": {},
   "outputs": [
    {
     "name": "stdout",
     "output_type": "stream",
     "text": [
      "\u001b[1m63/63\u001b[0m \u001b[32m━━━━━━━━━━━━━━━━━━━━\u001b[0m\u001b[37m\u001b[0m \u001b[1m11s\u001b[0m 58ms/step\n",
      "Test Accuracy:0.75\n"
     ]
    }
   ],
   "source": [
    "#Evaluate on test data\n",
    "y_pred = model.predict(xtest)\n",
    "y_pred = (y_pred > 0.5)\n",
    "\n",
    "# Calculate accuracy\n",
    "accuracy = accuracy_score(ytest, y_pred)\n",
    "print(f'Test Accuracy:{accuracy:.2f}')"
   ]
  },
  {
   "cell_type": "code",
   "execution_count": null,
   "id": "e68c7c1e-6fd5-477a-86b6-4b1a05d1ab66",
   "metadata": {},
   "outputs": [],
   "source": []
  }
 ],
 "metadata": {
  "kernelspec": {
   "display_name": "Python [conda env:base] *",
   "language": "python",
   "name": "conda-base-py"
  },
  "language_info": {
   "codemirror_mode": {
    "name": "ipython",
    "version": 3
   },
   "file_extension": ".py",
   "mimetype": "text/x-python",
   "name": "python",
   "nbconvert_exporter": "python",
   "pygments_lexer": "ipython3",
   "version": "3.12.7"
  }
 },
 "nbformat": 4,
 "nbformat_minor": 5
}
