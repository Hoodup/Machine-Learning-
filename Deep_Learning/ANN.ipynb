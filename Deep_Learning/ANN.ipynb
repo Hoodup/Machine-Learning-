{
 "cells": [
  {
   "cell_type": "markdown",
   "id": "738e67d8-a720-436a-9886-8b0db0aefd60",
   "metadata": {},
   "source": [
    "# ANN/ Deep Learning Notebook"
   ]
  },
  {
   "cell_type": "markdown",
   "id": "a168dc89-5339-4b73-ba50-c0bd97277916",
   "metadata": {},
   "source": [
    "Artifificial Neural Network (ANNs) and Deep Learning are foundational technologies in modern Artificial Inteligence(AI). They minic the human brain to process structured and unstructured data for complex problem-solving"
   ]
  },
  {
   "cell_type": "markdown",
   "id": "d4219141-3074-4b79-956e-73438c4e7959",
   "metadata": {},
   "source": [
    "# Structured and Unstructured Data"
   ]
  },
  {
   "cell_type": "markdown",
   "id": "687584a3-e68a-454d-bffb-55296421df9b",
   "metadata": {},
   "source": [
    "- Structured Data: Data that is organised in a predefined format, typically stored in tables with rows and columns\n",
    "- Unstructured Data: Data that does not have a predefined structure or format. Examples: text, images, audio, video\n",
    "- Structured Data easily processed by traditional machine learning algorithms because of its tabular nature\n",
    "- Unstructured data requires advananced techniques like deep learning to extract meaningful patterns due to its complexity"
   ]
  },
  {
   "cell_type": "markdown",
   "id": "e0204bba-e01b-49cb-89c6-ffd0e3280e4a",
   "metadata": {},
   "source": [
    "## Example \n",
    "- Structured Data: A CSV file containing customer data\n",
    "- Unstructured Data: A Collection of images, social media posts, or audio recording"
   ]
  },
  {
   "cell_type": "markdown",
   "id": "75a12153-7acf-4ebb-9af8-49f9509e3986",
   "metadata": {},
   "source": [
    "# Use Cases"
   ]
  },
  {
   "cell_type": "markdown",
   "id": "2d923c04-7ee2-4d00-b657-f6286d40c5c7",
   "metadata": {},
   "source": [
    "- Structured Data: Predicting customer churn using a dataset of customer transactions\n",
    "- Unstructured Data: Classify Images using Convolutional Neural Network (CNNs)"
   ]
  },
  {
   "cell_type": "markdown",
   "id": "6781b403-5761-4834-8836-0af96cbab4d3",
   "metadata": {},
   "source": [
    "# Neural Networks\n",
    "\n",
    "A Neural Network is a computational model inspired by the human brain, consisting of layers of interconnected nodes (neurons) that process data\n",
    "\n",
    "## Neural Networks Architecture\n",
    "Neural Networks consists of interconnected neurons arranged in layers:\n",
    "- input Layer: Receives raw data input\n",
    "- Hidden Layers: Perform Computations and feature extraction\n",
    "- Output Layer: Produces final predictions or classification\n",
    "\n",
    "\n",
    "Input ---> Hidden Layer 1 ---> Hidden Layer 2 ---> Output"
   ]
  },
  {
   "cell_type": "markdown",
   "id": "f8879b8c-6981-47f1-bc80-0e2ea707852d",
   "metadata": {},
   "source": [
    "# Activation Function"
   ]
  },
  {
   "cell_type": "markdown",
   "id": "503a534d-0110-4583-adf3-ed79ec69d618",
   "metadata": {},
   "source": [
    "Activation functions introduce non-linearity into the neutral network, enabling it to learn complex pattern\n",
    "\n",
    "#### Types of Activation Function\n",
    "1. Sigmoid: Used for binary classification\n",
    "2. ReLU (Rectified Linear Unit): Most commonly used due to efficiency\n",
    "3. Tanh: Scales outputs between -1 and 1\n",
    "4. Softmax: Used for multi-class classification"
   ]
  },
  {
   "cell_type": "code",
   "execution_count": null,
   "id": "51a74385-2b4c-40a5-8724-c03827563da0",
   "metadata": {},
   "outputs": [],
   "source": [
    "# Sigmoid Function: Maps input to a range between 0 and 1abs\n",
    "\n",
    "def sigmoid(x):\n",
    "    return 1/(1 + np.exp(-x))"
   ]
  },
  {
   "cell_type": "code",
   "execution_count": null,
   "id": "c7d6ebe7-72d3-47f2-b982-96894ee3b3cb",
   "metadata": {},
   "outputs": [],
   "source": [
    "# ReLU (Rectified Linear Unit)\n",
    "# ReLU is commonly used in hidden layers due to its computational efficiency and ability to mitigate the vanishing gradient problem \n",
    "\n",
    "def relu():\n",
    "    return np.maximum(0, x)"
   ]
  }
 ],
 "metadata": {
  "kernelspec": {
   "display_name": "Python [conda env:base] *",
   "language": "python",
   "name": "conda-base-py"
  },
  "language_info": {
   "codemirror_mode": {
    "name": "ipython",
    "version": 3
   },
   "file_extension": ".py",
   "mimetype": "text/x-python",
   "name": "python",
   "nbconvert_exporter": "python",
   "pygments_lexer": "ipython3",
   "version": "3.12.7"
  }
 },
 "nbformat": 4,
 "nbformat_minor": 5
}
